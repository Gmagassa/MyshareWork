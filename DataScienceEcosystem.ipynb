{
 "cells": [
  {
   "cell_type": "markdown",
   "id": "220a3d94",
   "metadata": {},
   "source": [
    "# Data Science Tools and Ecosystem"
   ]
  },
  {
   "cell_type": "markdown",
   "id": "bb43437c",
   "metadata": {},
   "source": [
    "In this notebook, Data Science Tools and Ecosystem are summarized."
   ]
  },
  {
   "cell_type": "markdown",
   "id": "2ceaf5bc",
   "metadata": {},
   "source": [
    "**Objectives:**\n",
    "* The popular languages for Data Science\n",
    "* The commonly libraries used by Data Scientists\n",
    "* Data Science Tools\n",
    "* Arithmetic expressions in Python"
   ]
  },
  {
   "cell_type": "markdown",
   "id": "631012b7",
   "metadata": {},
   "source": [
    "Some of the popular languages that Data Scientists use are: \n",
    "* Python \n",
    "* R \n",
    "* Javascript \n",
    "* Julia \n",
    "* SQL\n",
    "* Java\n",
    "    "
   ]
  },
  {
   "cell_type": "markdown",
   "id": "d9e9ad67",
   "metadata": {},
   "source": [
    "Some of the commonly used libraries used by Data Scientists include:\n",
    "* Pandas\n",
    "* NumPy\n",
    "* Matbotlib\n",
    "* Seaborn\n",
    "* Scikit-learn\n",
    "* TensorFlow\n",
    "* Keras\n",
    "* PyTorch"
   ]
  },
  {
   "cell_type": "markdown",
   "id": "dc769115",
   "metadata": {},
   "source": [
    "\n",
    "| Data Science Tools |\n",
    "|---|\n",
    "| Rstudio |\n",
    "| Apache Spark | \n",
    "| TensorFow|\n"
   ]
  },
  {
   "cell_type": "markdown",
   "id": "f0fec90d",
   "metadata": {},
   "source": [
    "### Below are a few examples of evaluating arithmetic expressions in Python\n"
   ]
  },
  {
   "cell_type": "code",
   "execution_count": 4,
   "id": "3f658f4f",
   "metadata": {},
   "outputs": [
    {
     "data": {
      "text/plain": [
       "17"
      ]
     },
     "execution_count": 4,
     "metadata": {},
     "output_type": "execute_result"
    }
   ],
   "source": [
    "# his a simple arithmetic expression to mutiply then add integers\n",
    "(3*4)+5"
   ]
  },
  {
   "cell_type": "code",
   "execution_count": 5,
   "id": "ae06493b",
   "metadata": {},
   "outputs": [
    {
     "data": {
      "text/plain": [
       "3.3333333333333335"
      ]
     },
     "execution_count": 5,
     "metadata": {},
     "output_type": "execute_result"
    }
   ],
   "source": [
    "# This will convert 200 minutes to hours by diving by 60\n",
    "200/60"
   ]
  },
  {
   "cell_type": "markdown",
   "id": "c21ed983",
   "metadata": {},
   "source": [
    "## Author\n",
    "Ganda MAGASSA"
   ]
  },
  {
   "cell_type": "code",
   "execution_count": null,
   "id": "65e3678b",
   "metadata": {},
   "outputs": [],
   "source": []
  }
 ],
 "metadata": {
  "kernelspec": {
   "display_name": "Python 3 (ipykernel)",
   "language": "python",
   "name": "python3"
  },
  "language_info": {
   "codemirror_mode": {
    "name": "ipython",
    "version": 3
   },
   "file_extension": ".py",
   "mimetype": "text/x-python",
   "name": "python",
   "nbconvert_exporter": "python",
   "pygments_lexer": "ipython3",
   "version": "3.9.13"
  }
 },
 "nbformat": 4,
 "nbformat_minor": 5
}
